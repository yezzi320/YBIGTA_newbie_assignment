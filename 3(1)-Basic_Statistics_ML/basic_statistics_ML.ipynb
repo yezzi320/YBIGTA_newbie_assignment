{
 "cells": [
  {
   "cell_type": "markdown",
   "id": "8a389485",
   "metadata": {},
   "source": [
    "# 3(1)-기초통계/ML"
   ]
  },
  {
   "cell_type": "markdown",
   "id": "eea1c046",
   "metadata": {},
   "source": [
    "## Iris 데이터셋을 활용해 클래스별 변수 평균 차이를 검정"
   ]
  },
  {
   "cell_type": "code",
   "execution_count": 1,
   "id": "cc1f413a",
   "metadata": {},
   "outputs": [],
   "source": [
    "import seaborn as sns\n",
    "import pandas as pd"
   ]
  },
  {
   "cell_type": "code",
   "execution_count": 2,
   "id": "e88a8769",
   "metadata": {},
   "outputs": [
    {
     "name": "stdout",
     "output_type": "stream",
     "text": [
      "(150, 5)\n",
      "   sepal_length  sepal_width  petal_length  petal_width species\n",
      "0           5.1          3.5           1.4          0.2  setosa\n",
      "1           4.9          3.0           1.4          0.2  setosa\n",
      "2           4.7          3.2           1.3          0.2  setosa\n",
      "3           4.6          3.1           1.5          0.2  setosa\n",
      "4           5.0          3.6           1.4          0.2  setosa\n",
      "<class 'pandas.core.frame.DataFrame'>\n",
      "RangeIndex: 150 entries, 0 to 149\n",
      "Data columns (total 5 columns):\n",
      " #   Column        Non-Null Count  Dtype  \n",
      "---  ------        --------------  -----  \n",
      " 0   sepal_length  150 non-null    float64\n",
      " 1   sepal_width   150 non-null    float64\n",
      " 2   petal_length  150 non-null    float64\n",
      " 3   petal_width   150 non-null    float64\n",
      " 4   species       150 non-null    object \n",
      "dtypes: float64(4), object(1)\n",
      "memory usage: 6.0+ KB\n",
      "None\n",
      "       sepal_length  sepal_width  petal_length  petal_width\n",
      "count    150.000000   150.000000    150.000000   150.000000\n",
      "mean       5.843333     3.057333      3.758000     1.199333\n",
      "std        0.828066     0.435866      1.765298     0.762238\n",
      "min        4.300000     2.000000      1.000000     0.100000\n",
      "25%        5.100000     2.800000      1.600000     0.300000\n",
      "50%        5.800000     3.000000      4.350000     1.300000\n",
      "75%        6.400000     3.300000      5.100000     1.800000\n",
      "max        7.900000     4.400000      6.900000     2.500000\n"
     ]
    }
   ],
   "source": [
    "# Iris 데이터셋 불러오기\n",
    "iris = sns.load_dataset('iris')\n",
    "\n",
    "# Iris 데이터셋 구조 및 상위 데이터 확인\n",
    "print(iris.shape)\n",
    "print(iris.head())\n",
    "\n",
    "# Iris 데이터셋 요약 정보\n",
    "print(iris.info())\n",
    "\n",
    "# Iris 데이터셋 기본 통계량\n",
    "print(iris.describe())"
   ]
  },
  {
   "cell_type": "code",
   "execution_count": 3,
   "id": "28dffdd9",
   "metadata": {},
   "outputs": [
    {
     "name": "stdout",
     "output_type": "stream",
     "text": [
      "            count   mean       std  min  25%   50%    75%  max\n",
      "species                                                       \n",
      "setosa       50.0  1.462  0.173664  1.0  1.4  1.50  1.575  1.9\n",
      "versicolor   50.0  4.260  0.469911  3.0  4.0  4.35  4.600  5.1\n",
      "virginica    50.0  5.552  0.551895  4.5  5.1  5.55  5.875  6.9\n",
      "setosa        50\n",
      "versicolor    50\n",
      "virginica     50\n",
      "Name: species, dtype: int64\n"
     ]
    }
   ],
   "source": [
    "# Species 별 Petal length 기술 통계량\n",
    "print(iris.groupby('species')['petal_length'].describe())\n",
    "# 그룹별 데이터 개수 확인\n",
    "print(iris['species'].value_counts())"
   ]
  },
  {
   "cell_type": "code",
   "execution_count": 4,
   "id": "3981b1cb",
   "metadata": {},
   "outputs": [
    {
     "data": {
      "image/png": "[encoded data removed]",
      "text/plain": [
       "<Figure size 800x500 with 1 Axes>"
      ]
     },
     "metadata": {},
     "output_type": "display_data"
    }
   ],
   "source": [
    "import matplotlib.pyplot as plt\n",
    "import seaborn as sns\n",
    "\n",
    "# Boxplot 시각화\n",
    "plt.figure(figsize=(8, 5))\n",
    "sns.boxplot(data=iris, x='species', y='petal_length')\n",
    "plt.title('Boxplot of Petal Length by Species')\n",
    "plt.show()"
   ]
  },
  {
   "cell_type": "markdown",
   "id": "62a7967a",
   "metadata": {},
   "source": [
    "virginica 종의 petal length 평균이 가장 길며, versicolor는 그보다 짧고 setosa의 평균이 1.462로 가장 짧다.  \n",
    "setosa의 Petal Length는 전체적으로 값들이 좁은 구간에 밀집되어 있어 변동성이 낮으며, 대칭적인 분포를 가지는 것으로 보인다. versicolor는 setosa 보다 넓은 분포를 가지며 Q1과 Q3의 간격이 상대적으로 크다. virginica는 세 그룹 중 가장 넓은 분포를 가진다. "
   ]
  },
  {
   "cell_type": "markdown",
   "id": "c8ba287f",
   "metadata": {},
   "source": [
    "#### Species별 Shapiro-Wilk 정규성 검정 \n",
    "귀무가설(H₀): 해당 품종의 petal_length는 정규분포를 따른다.  \n",
    "대립가설(H₁): 정규분포를 따르지 않는다.  \n",
    "유의수준(α): 0.05"
   ]
  },
  {
   "cell_type": "code",
   "execution_count": 5,
   "id": "5dcc8ca5",
   "metadata": {},
   "outputs": [
    {
     "name": "stdout",
     "output_type": "stream",
     "text": [
      "setosa: p-value = 0.0548\n",
      "versicolor: p-value = 0.1585\n",
      "virginica: p-value = 0.1098\n"
     ]
    }
   ],
   "source": [
    "from scipy.stats import shapiro\n",
    "\n",
    "# 품종 별 Shapiro-Wilk 검정\n",
    "for species in iris['species'].unique():\n",
    "    stat, p = shapiro(iris[iris['species'] == species]['petal_length'])\n",
    "    print(f'{species}: p-value = {p:.4f}')"
   ]
  },
  {
   "cell_type": "markdown",
   "id": "fa3937fc",
   "metadata": {},
   "source": [
    "setosa 종의 Shapiro-Wilk 정규성 검정 결과, p-value는 0.0548 > 0.05 이므로 귀무가설을 채택한다.  \n",
    "versicolor 종의 Shapiro-Wilk 정규성 검정 결과, p-value는 0.1585 > 0.05 이므로 귀무가설을 채택한다.  \n",
    "virginica 종의 Shapiro-Wilk 정규성 검정 결과, p-value는 0.1098 > 0.05 이므로 귀무가설을 채택한다.  \n",
    "세 품종 모두 유의수준 0.05 하에서, petal_length가 정규분포를 따른다."
   ]
  },
  {
   "cell_type": "code",
   "execution_count": 6,
   "id": "15fbfda0",
   "metadata": {},
   "outputs": [],
   "source": [
    "from scipy.stats import levene\n",
    "\n",
    "# 3 그룹 나누기\n",
    "setosa = iris[iris['species'] == 'setosa']['petal_length']\n",
    "versicolor = iris[iris['species'] == 'versicolor']['petal_length']\n",
    "virginica = iris[iris['species'] == 'virginica']['petal_length']"
   ]
  },
  {
   "cell_type": "markdown",
   "id": "f40ce987",
   "metadata": {},
   "source": [
    "#### Levene 검정을 통한 등분산성 검정\n",
    "귀무가설(H₀): 세 그룹의 모분산은 같다. (등분산이다.)  \n",
    "대립가설(H₁): 적어도 한 그룹의 분산이 다르다.  \n",
    "유의수준(α): 0.05"
   ]
  },
  {
   "cell_type": "code",
   "execution_count": 7,
   "id": "6a4b3a68",
   "metadata": {},
   "outputs": [
    {
     "name": "stdout",
     "output_type": "stream",
     "text": [
      "3.1287566394085344e-08\n"
     ]
    }
   ],
   "source": [
    "# Levene’s test\n",
    "stat, p = levene(setosa, versicolor, virginica)\n",
    "print(p)"
   ]
  },
  {
   "cell_type": "markdown",
   "id": "fd66d181",
   "metadata": {},
   "source": [
    "p-value가 유의수준인 0.05보다 작으므로 귀무가설을 기각한다.  \n",
    "유의수준 0.05 하에서, 세 그룹 중 적어도 한 그룹의 분산이 다르다. "
   ]
  },
  {
   "cell_type": "markdown",
   "id": "89c9cc68",
   "metadata": {},
   "source": [
    "#### 가설 수립\n",
    "귀무가설(H₀): 3개 Species 간 Petal Length의 평균은 모두 같다.  \n",
    "대립가설(H₁): 적어도 하나의 종의 Petal Length 평균은 다르다.  \n",
    "유의수준(α): 0.05\n"
   ]
  },
  {
   "cell_type": "code",
   "execution_count": 8,
   "id": "b87806a2",
   "metadata": {},
   "outputs": [
    {
     "name": "stdout",
     "output_type": "stream",
     "text": [
      "              sum_sq     df            F        PR(>F)\n",
      "C(species)  437.1028    2.0  1180.161182  2.856777e-91\n",
      "Residual     27.2226  147.0          NaN           NaN\n",
      "1180.161182252981\n",
      "2.8567766109615584e-91\n"
     ]
    }
   ],
   "source": [
    "from scipy.stats import f_oneway\n",
    "import statsmodels.api as sm\n",
    "from statsmodels.formula.api import ols\n",
    "\n",
    "model = ols('petal_length ~ C(species)', data=iris).fit()\n",
    "\n",
    "# ANOVA 테이블 출력\n",
    "anova_table = sm.stats.anova_lm(model, typ=2)\n",
    "print(anova_table)\n",
    "\n",
    "# One-way ANOVA \n",
    "f_stat, p_value = f_oneway(setosa, versicolor, virginica)\n",
    "\n",
    "print(f_stat)\n",
    "print(p_value)"
   ]
  },
  {
   "cell_type": "markdown",
   "id": "60c91322",
   "metadata": {},
   "source": [
    "p-value = 2.8567766109615584e-91 < 0.05 이므로 귀무가설을 기각한다.  \n",
    "유의수준 0.05에서 적어도 하나의 종의 Petal Length 평균은 다르다.  "
   ]
  },
  {
   "cell_type": "code",
   "execution_count": 9,
   "id": "3837fbb8",
   "metadata": {},
   "outputs": [
    {
     "name": "stdout",
     "output_type": "stream",
     "text": [
      "   Multiple Comparison of Means - Tukey HSD, FWER=0.05   \n",
      "=========================================================\n",
      "  group1     group2   meandiff p-adj lower  upper  reject\n",
      "---------------------------------------------------------\n",
      "    setosa versicolor    2.798   0.0 2.5942 3.0018   True\n",
      "    setosa  virginica     4.09   0.0 3.8862 4.2938   True\n",
      "versicolor  virginica    1.292   0.0 1.0882 1.4958   True\n",
      "---------------------------------------------------------\n"
     ]
    }
   ],
   "source": [
    "from statsmodels.stats.multicomp import pairwise_tukeyhsd\n",
    "\n",
    "# Tukey HSD 사후검정\n",
    "tukey = pairwise_tukeyhsd(endog=iris['petal_length'], groups=iris['species'], alpha=0.05)\n",
    "print(tukey.summary())"
   ]
  },
  {
   "cell_type": "markdown",
   "id": "e94fd10d",
   "metadata": {},
   "source": [
    "#### Tukey HSD 사후검정 결과\n",
    "Tukey HSD 사후검정 결과, 모든 종(species) 간 쌍에서 Petal Length의 평균 차이가 통계적으로 유의미하다.  \n",
    "\n",
    "setosa – versicolor: 유의미한 차이 있음 (p < 0.05)  \n",
    "setosa – virginica: 유의미한 차이 있음 (p < 0.05)  \n",
    "versicolor – virginica: 유의미한 차이 있음 (p < 0.05)  \n",
    "\n",
    "세 종의 Petal Length 평균은 각각 서로 다르며, virginica > versicolor > setosa 순으로 확인할 수 있다."
   ]
  },
  {
   "cell_type": "markdown",
   "id": "4ca149eb",
   "metadata": {},
   "source": [
    "#### 9. 결과 요약\n",
    "\n",
    "Boxplot을 통해 virginica의 Petal Length가 가장 길고, versicolor, setosa 순으로 확인했다.\n",
    "ANOVA 결과, p-value < 0.05로 세 개의 species 간의 평균 차이가 통계적으로 유의미 한 것으로 확인되었다.  \n",
    "Tukey HSD 사후검정 결과, 세 종 간의 모든 쌍에서 유의미한 차이가 있었디.  \n",
    "결론적으로, 세 종의 Petal Length는 통계적으로 유의하게 차이가 난다고 할 수 있다.\n"
   ]
  },
  {
   "cell_type": "markdown",
   "id": "d70fae09",
   "metadata": {},
   "source": [
    "## 실제 신용카드 사기 데이터셋을 활용해 클래스 불균형 상황에서 분류 모델을 학습"
   ]
  },
  {
   "cell_type": "code",
   "execution_count": 10,
   "id": "0a53fbd0",
   "metadata": {},
   "outputs": [],
   "source": [
    "from collections import Counter\n",
    "import pandas as pd\n",
    "import numpy as np\n",
    "import sklearn\n",
    "from sklearn.model_selection import train_test_split, GridSearchCV\n",
    "from sklearn.preprocessing import StandardScaler\n",
    "from sklearn.metrics import classification_report, average_precision_score, precision_recall_curve, f1_score\n",
    "from sklearn.ensemble import GradientBoostingClassifier\n",
    "import matplotlib.pyplot as plt"
   ]
  },
  {
   "cell_type": "code",
   "execution_count": 11,
   "id": "318acb9d",
   "metadata": {},
   "outputs": [
    {
     "name": "stdout",
     "output_type": "stream",
     "text": [
      "   Time        V1        V2        V3        V4        V5        V6        V7  \\\n",
      "0   0.0 -1.359807 -0.072781  2.536347  1.378155 -0.338321  0.462388  0.239599   \n",
      "1   0.0  1.191857  0.266151  0.166480  0.448154  0.060018 -0.082361 -0.078803   \n",
      "2   1.0 -1.358354 -1.340163  1.773209  0.379780 -0.503198  1.800499  0.791461   \n",
      "3   1.0 -0.966272 -0.185226  1.792993 -0.863291 -0.010309  1.247203  0.237609   \n",
      "4   2.0 -1.158233  0.877737  1.548718  0.403034 -0.407193  0.095921  0.592941   \n",
      "\n",
      "         V8        V9  ...       V21       V22       V23       V24       V25  \\\n",
      "0  0.098698  0.363787  ... -0.018307  0.277838 -0.110474  0.066928  0.128539   \n",
      "1  0.085102 -0.255425  ... -0.225775 -0.638672  0.101288 -0.339846  0.167170   \n",
      "2  0.247676 -1.514654  ...  0.247998  0.771679  0.909412 -0.689281 -0.327642   \n",
      "3  0.377436 -1.387024  ... -0.108300  0.005274 -0.190321 -1.175575  0.647376   \n",
      "4 -0.270533  0.817739  ... -0.009431  0.798278 -0.137458  0.141267 -0.206010   \n",
      "\n",
      "        V26       V27       V28  Amount  Class  \n",
      "0 -0.189115  0.133558 -0.021053  149.62      0  \n",
      "1  0.125895 -0.008983  0.014724    2.69      0  \n",
      "2 -0.139097 -0.055353 -0.059752  378.66      0  \n",
      "3 -0.221929  0.062723  0.061458  123.50      0  \n",
      "4  0.502292  0.219422  0.215153   69.99      0  \n",
      "\n",
      "[5 rows x 31 columns]\n",
      "<class 'pandas.core.frame.DataFrame'>\n",
      "RangeIndex: 284807 entries, 0 to 284806\n",
      "Data columns (total 31 columns):\n",
      " #   Column  Non-Null Count   Dtype  \n",
      "---  ------  --------------   -----  \n",
      " 0   Time    284807 non-null  float64\n",
      " 1   V1      284807 non-null  float64\n",
      " 2   V2      284807 non-null  float64\n",
      " 3   V3      284807 non-null  float64\n",
      " 4   V4      284807 non-null  float64\n",
      " 5   V5      284807 non-null  float64\n",
      " 6   V6      284807 non-null  float64\n",
      " 7   V7      284807 non-null  float64\n",
      " 8   V8      284807 non-null  float64\n",
      " 9   V9      284807 non-null  float64\n",
      " 10  V10     284807 non-null  float64\n",
      " 11  V11     284807 non-null  float64\n",
      " 12  V12     284807 non-null  float64\n",
      " 13  V13     284807 non-null  float64\n",
      " 14  V14     284807 non-null  float64\n",
      " 15  V15     284807 non-null  float64\n",
      " 16  V16     284807 non-null  float64\n",
      " 17  V17     284807 non-null  float64\n",
      " 18  V18     284807 non-null  float64\n",
      " 19  V19     284807 non-null  float64\n",
      " 20  V20     284807 non-null  float64\n",
      " 21  V21     284807 non-null  float64\n",
      " 22  V22     284807 non-null  float64\n",
      " 23  V23     284807 non-null  float64\n",
      " 24  V24     284807 non-null  float64\n",
      " 25  V25     284807 non-null  float64\n",
      " 26  V26     284807 non-null  float64\n",
      " 27  V27     284807 non-null  float64\n",
      " 28  V28     284807 non-null  float64\n",
      " 29  Amount  284807 non-null  float64\n",
      " 30  Class   284807 non-null  int64  \n",
      "dtypes: float64(30), int64(1)\n",
      "memory usage: 67.4 MB\n",
      "None\n",
      "0    284315\n",
      "1       492\n",
      "Name: Class, dtype: int64\n",
      "0    99.827251\n",
      "1     0.172749\n",
      "Name: Class, dtype: float64\n"
     ]
    }
   ],
   "source": [
    "# 데이터 로드 & 기본 탐색\n",
    "df = pd.read_csv('creditcard.csv')\n",
    "\n",
    "print(df.head())\n",
    "print(df.info())\n",
    "print(df['Class'].value_counts())\n",
    "print(df['Class'].value_counts(normalize=True)*100)"
   ]
  },
  {
   "cell_type": "markdown",
   "id": "f8509746",
   "metadata": {},
   "source": [
    "전체 거래 총 284 807건 중 사기 건수(Class=1)는 492건(≈ 0.17%)에 해당한다.  \n",
    "class 간 심한 불균형이 확인되므로, SMOTE를 적용하는 것이 적합할 것으로 보인다."
   ]
  },
  {
   "cell_type": "code",
   "execution_count": 12,
   "id": "efb8d00e",
   "metadata": {},
   "outputs": [
    {
     "name": "stdout",
     "output_type": "stream",
     "text": [
      "클래스 건수: Counter({0: 10000, 1: 492})\n",
      "클래스 비율:\n",
      "정상 (0): 95.31%\n",
      "사기 (1): 4.69%\n"
     ]
    }
   ],
   "source": [
    "# 샘플링\n",
    "fraud = df[df['Class'] == 1]\n",
    "normal = df[df['Class'] == 0].sample(n=10_000, random_state=42)\n",
    "\n",
    "reduced_df = pd.concat([fraud, normal]).sample(frac=1, random_state=42) \n",
    "\n",
    "counts = Counter(reduced_df['Class'])\n",
    "print(\"클래스 건수:\", counts)\n",
    "\n",
    "total = sum(counts.values())\n",
    "ratios = {k: f\"{v/total*100:.2f}%\" for k, v in counts.items()}\n",
    "\n",
    "print(\"클래스 비율:\")\n",
    "for k in sorted(ratios.keys()):\n",
    "    label = '정상 (0)' if k == 0 else '사기 (1)'\n",
    "    print(f\"{label}: {ratios[k]}\")"
   ]
  },
  {
   "cell_type": "code",
   "execution_count": 13,
   "id": "c0dd9fa1",
   "metadata": {},
   "outputs": [],
   "source": [
    "# 데이터 전처리 \n",
    "\n",
    "reduced_df['Amount_Scaled'] = StandardScaler().fit_transform(reduced_df[['Amount']])\n",
    "reduced_df = reduced_df.drop(columns=['Amount'])\n",
    "\n",
    "X = reduced_df.drop(columns=['Class'])\n",
    "y = reduced_df['Class']"
   ]
  },
  {
   "cell_type": "code",
   "execution_count": 14,
   "id": "761bf16c",
   "metadata": {},
   "outputs": [
    {
     "name": "stdout",
     "output_type": "stream",
     "text": [
      "Counter({0: 7999, 1: 394}) Counter({0: 2001, 1: 98})\n"
     ]
    }
   ],
   "source": [
    "# 학습 데이터와 테스트 데이터 분할\n",
    "X_train, X_test, y_train, y_test = train_test_split(X, y, test_size=0.2, stratify=y, random_state=42)\n",
    "print(Counter(y_train), Counter(y_test))"
   ]
  },
  {
   "cell_type": "code",
   "execution_count": 15,
   "id": "af434dd0",
   "metadata": {},
   "outputs": [
    {
     "name": "stdout",
     "output_type": "stream",
     "text": [
      "SMOTE 적용 전: Counter({0: 7999, 1: 394})\n",
      "SMOTE 적용 후: Counter({0: 7999, 1: 7999})\n"
     ]
    }
   ],
   "source": [
    "#SMOTE 적용\n",
    "from imblearn.over_sampling import SMOTE\n",
    "\n",
    "sm = SMOTE(random_state=42)\n",
    "X_train_sm, y_train_sm = sm.fit_resample(X_train, y_train)\n",
    "\n",
    "print('SMOTE 적용 전:', Counter(y_train))\n",
    "print('SMOTE 적용 후:', Counter(y_train_sm))"
   ]
  },
  {
   "cell_type": "markdown",
   "id": "d44397a1",
   "metadata": {},
   "source": [
    "주어진 신용카드 사기 데이터셋은 사기 거래의 건수가 전체 거래(Class=1) 건수의 약 0.17%에 불과할 정도로 클래스 간의 불균형 정도가 심하다. 소수 클래스가 매우 작은 경우, 모델이 대부분의 예측을 정상 거래(Class=0)로만 하게 되고, 사기 거래(Class=1)를 놓치게 된다. 이는 주어진 모델 성능 목표 달성을 어렵게 힌다.   \n",
    "따라서 소수 클래스를 오버샘플링하는 방식을 택해야 한다. SMOTE의 경우, 소수 클래스를 단순 복사하는 것이 아닌 소수 클래스의 기존 데이터 사이에 새로운 데이터를 생성하여 단순 복사 시 발생할 수 있는 과적합 문제를 방지할 수 있다. "
   ]
  },
  {
   "cell_type": "code",
   "execution_count": 16,
   "id": "9c7014f5",
   "metadata": {},
   "outputs": [],
   "source": [
    "from sklearn.ensemble import RandomForestClassifier\n",
    "from sklearn.metrics import accuracy_score, f1_score"
   ]
  },
  {
   "cell_type": "markdown",
   "id": "fadd8a18",
   "metadata": {},
   "source": [
    "여러가지 모델로 분류해 본 결과, 랜덤 포레스트 알고리즘을 사용하는 RandomForestClassifier 모델을 선정했다. 여러 개의 Decision Tree Classifiers를 데이터셋의 다양한 하위 샘플에 훈련시키고, 이 트리들의 결과를 평균내어 예측하는 모델이다.  \n",
    "주요 파라미터로는 n_estimators(생성할 트리 개수), max_depth(트리의 최대 깊이), max_features(각 노드에서 고려할 feature 수), min_samples_split(노드를 분할하기 위한 최소 샘플 수) 등이 있다. "
   ]
  },
  {
   "cell_type": "code",
   "execution_count": 17,
   "id": "83c586dd",
   "metadata": {},
   "outputs": [
    {
     "name": "stdout",
     "output_type": "stream",
     "text": [
      "Classification Report:\n",
      "              precision    recall  f1-score   support\n",
      "\n",
      "           0     0.9916    0.9990    0.9953      2001\n",
      "           1     0.9759    0.8265    0.8950        98\n",
      "\n",
      "    accuracy                         0.9909      2099\n",
      "   macro avg     0.9837    0.9128    0.9451      2099\n",
      "weighted avg     0.9908    0.9909    0.9906      2099\n",
      "\n",
      "PR-AUC : 0.9158\n"
     ]
    }
   ],
   "source": [
    "# 모델 학습\n",
    "rf = RandomForestClassifier(random_state=42, class_weight='balanced')\n",
    "rf.fit(X_train_sm, y_train_sm)\n",
    "\n",
    "# 테스트셋 예측\n",
    "y_pred = rf.predict(X_test)\n",
    "y_proba = rf.predict_proba(X_test)[:, 1]\n",
    "\n",
    "# 성능 평가\n",
    "print(\"Classification Report:\")\n",
    "print(classification_report(y_test, y_pred, digits=4))\n",
    "\n",
    "print(\"PR-AUC :\", average_precision_score(y_test, y_proba).round(4))"
   ]
  },
  {
   "cell_type": "markdown",
   "id": "d61da4c3",
   "metadata": {},
   "source": [
    "Recall, F1, PR-AUC 등의 지표 상에서 성능이 괜찮은 것으로 보이지만, 더욱 향상시키기 위해 F1 을 기준으로 threshold를 조정한다. "
   ]
  },
  {
   "cell_type": "code",
   "execution_count": 18,
   "id": "30143b27",
   "metadata": {},
   "outputs": [
    {
     "name": "stdout",
     "output_type": "stream",
     "text": [
      "0.51\n",
      "              precision    recall  f1-score   support\n",
      "\n",
      "           0     0.9916    0.9990    0.9953      2001\n",
      "           1     0.9759    0.8265    0.8950        98\n",
      "\n",
      "    accuracy                         0.9909      2099\n",
      "   macro avg     0.9837    0.9128    0.9451      2099\n",
      "weighted avg     0.9908    0.9909    0.9906      2099\n",
      "\n"
     ]
    }
   ],
   "source": [
    "from sklearn.metrics import precision_recall_curve\n",
    "\n",
    "prec, rec, thresholds = precision_recall_curve(y_test, y_proba)\n",
    "f1 = 2 * prec * rec / (prec + rec)\n",
    "best_threshold = thresholds[f1.argmax()]\n",
    "print(best_threshold)\n",
    "\n",
    "# 새로운 threshold로 예측\n",
    "y_pred_custom = (y_proba >= best_threshold).astype(int)\n",
    "\n",
    "# 평가\n",
    "print(classification_report(y_test, y_pred_custom, digits=4))"
   ]
  },
  {
   "cell_type": "markdown",
   "id": "9b1bcb8e",
   "metadata": {},
   "source": [
    "최적 threshold 값이 0.5와 근사하여, 성능에 차이가 생기지 않았다. "
   ]
  },
  {
   "cell_type": "code",
   "execution_count": 19,
   "id": "3e05a2d1",
   "metadata": {},
   "outputs": [
    {
     "name": "stdout",
     "output_type": "stream",
     "text": [
      "Train Classification Report:\n",
      "              precision    recall  f1-score   support\n",
      "\n",
      "           0     1.0000    1.0000    1.0000      7999\n",
      "           1     1.0000    1.0000    1.0000      7999\n",
      "\n",
      "    accuracy                         1.0000     15998\n",
      "   macro avg     1.0000    1.0000    1.0000     15998\n",
      "weighted avg     1.0000    1.0000    1.0000     15998\n",
      "\n",
      "Train PR-AUC : 1.0\n"
     ]
    }
   ],
   "source": [
    "# 학습셋 성능 평가\n",
    "y_train_proba = rf.predict_proba(X_train_sm)[:, 1]\n",
    "y_train_custom = (y_train_proba >= best_threshold).astype(int)\n",
    "\n",
    "print(\"Train Classification Report:\")\n",
    "print(classification_report(y_train_sm, y_train_custom, digits=4))\n",
    "\n",
    "print(\"Train PR-AUC :\", average_precision_score(y_train_sm, y_train_proba).round(4))"
   ]
  },
  {
   "cell_type": "markdown",
   "id": "052baac4",
   "metadata": {},
   "source": [
    "추가적으로 학습셋 성능을 확인한 결과, 오버피팅 이슈가 확인되었다. "
   ]
  },
  {
   "cell_type": "code",
   "execution_count": 20,
   "id": "91d544f4",
   "metadata": {},
   "outputs": [
    {
     "name": "stdout",
     "output_type": "stream",
     "text": [
      "Classification Report:\n",
      "              precision    recall  f1-score   support\n",
      "\n",
      "           0     0.9910    0.9960    0.9935      2001\n",
      "           1     0.9091    0.8163    0.8602        98\n",
      "\n",
      "    accuracy                         0.9876      2099\n",
      "   macro avg     0.9501    0.9062    0.9269      2099\n",
      "weighted avg     0.9872    0.9876    0.9873      2099\n",
      "\n",
      "PR-AUC : 0.906\n"
     ]
    }
   ],
   "source": [
    "# 모델 학습\n",
    "rf2 = RandomForestClassifier(\n",
    "    random_state=42,\n",
    "    class_weight='balanced',\n",
    "    n_estimators=200,          # 트리 개수 제한\n",
    "    max_depth=6,               # 트리 깊이 제한\n",
    "    min_samples_leaf=12,        # 잎 노드에 존재해야 하는 최소 데이터\n",
    "    max_features='sqrt'        # 각 노드에서 고려할 특성의 수\n",
    ")\n",
    "rf2.fit(X_train_sm, y_train_sm)\n",
    "\n",
    "# 테스트셋 예측\n",
    "y2_pred = rf2.predict(X_test)\n",
    "y2_proba = rf2.predict_proba(X_test)[:, 1]\n",
    "\n",
    "# 성능 평가\n",
    "print(\"Classification Report:\")\n",
    "print(classification_report(y_test, y2_pred, digits=4))\n",
    "\n",
    "print(\"PR-AUC :\", average_precision_score(y_test, y2_proba).round(4))"
   ]
  },
  {
   "cell_type": "markdown",
   "id": "286d0afb",
   "metadata": {},
   "source": [
    "오버피팅을 줄이기 위해 하이퍼파라미터들을 제한하여 다시 성능을 확인했다.  \n",
    "Class 0에 대해 목표 Recall ≥ 0.80, F1 ≥ 0.88, PR-AUC ≥ 0.90 을 달성하였으나, Class 1에 대해서는 F1 ≥ 0.88을 달성하지 못했으므로 F1 을 기준으로 threshold 를 조정해 성능을 향상시킨다. "
   ]
  },
  {
   "cell_type": "code",
   "execution_count": 21,
   "id": "805f0986",
   "metadata": {},
   "outputs": [
    {
     "name": "stdout",
     "output_type": "stream",
     "text": [
      "Best threshold: 0.642 with F1 = 0.8827\n",
      "Custom Threshold Classification Report:\n",
      "              precision    recall  f1-score   support\n",
      "\n",
      "           0     0.9906    0.9990    0.9948      2001\n",
      "           1     0.9753    0.8061    0.8827        98\n",
      "\n",
      "    accuracy                         0.9900      2099\n",
      "   macro avg     0.9829    0.9026    0.9387      2099\n",
      "weighted avg     0.9899    0.9900    0.9895      2099\n",
      "\n",
      "PR-AUC: 0.906\n"
     ]
    }
   ],
   "source": [
    "# threshold 조정\n",
    "prec, rec, thresholds = precision_recall_curve(y_test, y2_proba)\n",
    "f1 = 2 * prec * rec / (prec + rec )\n",
    "best_threshold = thresholds[f1.argmax()]\n",
    "print(\"Best threshold:\", round(best_threshold, 4), \"with F1 =\", round(f1.max(), 4))\n",
    "\n",
    "y2_pred_custom = (y2_proba >= best_threshold).astype(int)\n",
    "\n",
    "# 조정된 threshold로 성능 평가\n",
    "print(\"Custom Threshold Classification Report:\")\n",
    "print(classification_report(y_test, y2_pred_custom, digits=4))\n",
    "\n",
    "print(\"PR-AUC:\", round(average_precision_score(y_test, y2_proba), 4))\n"
   ]
  },
  {
   "cell_type": "markdown",
   "id": "cb78ceac",
   "metadata": {},
   "source": [
    "Class 0과 1 각각에 대해 목표 Recall ≥ 0.80, F1 ≥ 0.88, PR-AUC ≥ 0.90 을 달성한 것을 확인할 수 있다. "
   ]
  },
  {
   "cell_type": "code",
   "execution_count": 22,
   "id": "2d92bafc",
   "metadata": {},
   "outputs": [
    {
     "name": "stdout",
     "output_type": "stream",
     "text": [
      "Train Classification Report:\n",
      "              precision    recall  f1-score   support\n",
      "\n",
      "           0     0.9378    0.9992    0.9676      7999\n",
      "           1     0.9992    0.9337    0.9654      7999\n",
      "\n",
      "    accuracy                         0.9665     15998\n",
      "   macro avg     0.9685    0.9665    0.9665     15998\n",
      "weighted avg     0.9685    0.9665    0.9665     15998\n",
      "\n",
      "Train PR-AUC : 0.9974\n"
     ]
    }
   ],
   "source": [
    "# 학습셋 성능 평가\n",
    "y2_train_proba = rf2.predict_proba(X_train_sm)[:, 1]\n",
    "y2_train_custom = (y2_train_proba >= best_threshold).astype(int)\n",
    "\n",
    "print(\"Train Classification Report:\")\n",
    "print(classification_report(y_train_sm, y2_train_custom, digits=4))\n",
    "\n",
    "print(\"Train PR-AUC :\", average_precision_score(y_train_sm, y2_train_proba).round(4))"
   ]
  },
  {
   "cell_type": "markdown",
   "id": "a1f54f90",
   "metadata": {},
   "source": [
    "학습셋에 대해 모든 지표가 1.0으로 나타났던 이전 모델과 달리, 현재 모델은 여전히 학습셋에서 높은 성능을 유지하지만, 과도한 학습은 어느 정도 완화된 것으로 보인다. 다만, 테스트셋과의 성능 차이를 고려할 때 약간의 과적합 위험은 여전히 존재하며, 일반화 성능을 더욱 향상시키기 위한 추가적인 조정이 필요할 수 있다고 보인다."
   ]
  }
 ],
 "metadata": {
  "kernelspec": {
   "display_name": "base",
   "language": "python",
   "name": "python3"
  },
  "language_info": {
   "codemirror_mode": {
    "name": "ipython",
    "version": 3
   },
   "file_extension": ".py",
   "mimetype": "text/x-python",
   "name": "python",
   "nbconvert_exporter": "python",
   "pygments_lexer": "ipython3",
   "version": "3.10.9"
  }
 },
 "nbformat": 4,
 "nbformat_minor": 5
}
